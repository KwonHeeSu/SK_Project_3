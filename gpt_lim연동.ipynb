{
 "cells": [
  {
   "cell_type": "code",
   "execution_count": 1,
   "id": "4d9a2458",
   "metadata": {},
   "outputs": [
    {
     "name": "stdout",
     "output_type": "stream",
     "text": [
      "Hello LangChain ChatGPT\n"
     ]
    }
   ],
   "source": [
    "print('Hello LangChain ChatGPT')"
   ]
  },
  {
   "cell_type": "code",
   "execution_count": 2,
   "id": "7affdaee",
   "metadata": {},
   "outputs": [],
   "source": [
    "import os\n",
    "\n",
    "from dotenv import load_dotenv\n",
    "from langchain_core.prompts import ChatPromptTemplate\n",
    "from langchain_openai import ChatOpenAI \n",
    "\n",
    "load_dotenv()\n",
    "OPENAI_API_KEY = os.getenv(\"OPENAI_API_KEY\")\n",
    "#print(OPENAI_API_KEY)"
   ]
  },
  {
   "cell_type": "code",
   "execution_count": 3,
   "id": "c9b907e2",
   "metadata": {},
   "outputs": [
    {
     "name": "stdout",
     "output_type": "stream",
     "text": [
      "input_variables=['input'] input_types={} partial_variables={} messages=[SystemMessagePromptTemplate(prompt=PromptTemplate(input_variables=[], input_types={}, partial_variables={}, template='당신은 개발자입니다.'), additional_kwargs={}), HumanMessagePromptTemplate(prompt=PromptTemplate(input_variables=['input'], input_types={}, partial_variables={}, template='{input}'), additional_kwargs={})]\n"
     ]
    }
   ],
   "source": [
    "# prompt\n",
    "# prompt\n",
    "prompt = ChatPromptTemplate.from_messages(\n",
    "    [ (\"system\", \"당신은 개발자입니다.\") , \n",
    "     (\"human\", \"{input}\") ]\n",
    ")\n",
    "print(prompt)\n",
    "\n",
    "prompt_text = prompt.format(input=\"LangServe는 무엇인가요? 자세하게 설명해주세요\")"
   ]
  },
  {
   "cell_type": "code",
   "execution_count": 4,
   "id": "035745e3",
   "metadata": {},
   "outputs": [
    {
     "name": "stdout",
     "output_type": "stream",
     "text": [
      "client=<openai.resources.chat.completions.completions.Completions object at 0x0000024B0AF63CB0> async_client=<openai.resources.chat.completions.completions.AsyncCompletions object at 0x0000024B0B59A780> root_client=<openai.OpenAI object at 0x0000024B087D8260> root_async_client=<openai.AsyncOpenAI object at 0x0000024B0B087170> model_name='gpt-4o-mini' temperature=0.7 model_kwargs={} openai_api_key=SecretStr('**********')\n"
     ]
    }
   ],
   "source": [
    "# ChatGPT API를 사용하는 ChatOpenAI 인스턴스 생성\n",
    "llm = ChatOpenAI(\n",
    "    #model=\"gpt-3.5-turbo-0125\",\n",
    "    model=\"gpt-4o-mini\",\n",
    "    temperature=0.7\n",
    ")\n",
    "print(llm)"
   ]
  },
  {
   "cell_type": "code",
   "execution_count": 5,
   "id": "0c097370",
   "metadata": {},
   "outputs": [
    {
     "name": "stdout",
     "output_type": "stream",
     "text": [
      "<class 'langchain_core.messages.ai.AIMessage'>\n",
      "content='LangServe는 인공지능 언어 모델을 기반으로 한 서비스나 플랫폼으로, 주로 자연어 처리(NLP)와 관련된 다양한 기능을 제공합니다. 사용자들이 텍스트 기반의 작업을 더 효율적으로 수행할 수 있도록 돕기 위해 설계되었습니다. LangServe의 주요 기능은 다음과 같습니다:\\n\\n1. **언어 모델 API**: LangServe는 사용자가 직접 언어 모델을 호출하고 사용할 수 있는 API를 제공합니다. 이를 통해 개발자들은 자신의 애플리케이션에 자연어 이해(NLU) 및 자연어 생성(NLG) 기능을 통합할 수 있습니다.\\n\\n2. **다양한 언어 지원**: LangServe는 여러 언어를 지원하여 다국적 사용자들이 자신의 언어로 서비스를 이용할 수 있도록 합니다. 이는 번역, 요약, 질문 응답 등 다양한 작업에 유용합니다.\\n\\n3. **사용자 맞춤형 모델**: 사용자가 특정 도메인이나 주제에 맞춰 모델을 fine-tuning 할 수 있는 기능을 제공하여, 보다 정확하고 관련성 높은 결과를 얻을 수 있습니다.\\n\\n4. **텍스트 분석**: LangServe는 텍스트의 감정 분석, 키워드 추출, 개체 인식 등 텍스트 분석 기능을 통해 데이터에서 유의미한 인사이트를 추출할 수 있도록 돕습니다.\\n\\n5. **대화형 인터페이스**: 사용자가 자연어로 질문을 하거나 명령을 내릴 수 있는 대화형 인터페이스를 제공하여, 보다 직관적으로 시스템과 상호작용할 수 있습니다.\\n\\n6. **통합 및 확장성**: 다른 소프트웨어 및 플랫폼과의 통합이 용이하여, 기업들이 기존 시스템에 쉽게 LangServe의 기능을 추가할 수 있습니다.\\n\\n이러한 기능들은 사용자와 기업이 다양한 방식으로 언어 모델을 활용할 수 있도록 지원하며, 특히 고객 서비스, 콘텐츠 생성, 데이터 분석 등 다양한 분야에서 응용될 수 있습니다. LangServe는 사용자가 자연어 처리 기술의 이점을 극대화하고, 효율성을 향상시킬 수 있도록 돕는 중요한 도구입니다.' additional_kwargs={'refusal': None} response_metadata={'token_usage': {'completion_tokens': 456, 'prompt_tokens': 28, 'total_tokens': 484, 'completion_tokens_details': {'accepted_prediction_tokens': 0, 'audio_tokens': 0, 'reasoning_tokens': 0, 'rejected_prediction_tokens': 0}, 'prompt_tokens_details': {'audio_tokens': 0, 'cached_tokens': 0}}, 'model_name': 'gpt-4o-mini-2024-07-18', 'system_fingerprint': 'fp_34a54ae93c', 'id': 'chatcmpl-BglZXLshL92RoWX7ycLfQKSztjbAn', 'service_tier': 'default', 'finish_reason': 'stop', 'logprobs': None} id='run--3cb57745-4b3c-4fa5-9e7c-2174cf83ce8a-0' usage_metadata={'input_tokens': 28, 'output_tokens': 456, 'total_tokens': 484, 'input_token_details': {'audio': 0, 'cache_read': 0}, 'output_token_details': {'audio': 0, 'reasoning': 0}}\n",
      "응답: LangServe는 인공지능 언어 모델을 기반으로 한 서비스나 플랫폼으로, 주로 자연어 처리(NLP)와 관련된 다양한 기능을 제공합니다. 사용자들이 텍스트 기반의 작업을 더 효율적으로 수행할 수 있도록 돕기 위해 설계되었습니다. LangServe의 주요 기능은 다음과 같습니다:\n",
      "\n",
      "1. **언어 모델 API**: LangServe는 사용자가 직접 언어 모델을 호출하고 사용할 수 있는 API를 제공합니다. 이를 통해 개발자들은 자신의 애플리케이션에 자연어 이해(NLU) 및 자연어 생성(NLG) 기능을 통합할 수 있습니다.\n",
      "\n",
      "2. **다양한 언어 지원**: LangServe는 여러 언어를 지원하여 다국적 사용자들이 자신의 언어로 서비스를 이용할 수 있도록 합니다. 이는 번역, 요약, 질문 응답 등 다양한 작업에 유용합니다.\n",
      "\n",
      "3. **사용자 맞춤형 모델**: 사용자가 특정 도메인이나 주제에 맞춰 모델을 fine-tuning 할 수 있는 기능을 제공하여, 보다 정확하고 관련성 높은 결과를 얻을 수 있습니다.\n",
      "\n",
      "4. **텍스트 분석**: LangServe는 텍스트의 감정 분석, 키워드 추출, 개체 인식 등 텍스트 분석 기능을 통해 데이터에서 유의미한 인사이트를 추출할 수 있도록 돕습니다.\n",
      "\n",
      "5. **대화형 인터페이스**: 사용자가 자연어로 질문을 하거나 명령을 내릴 수 있는 대화형 인터페이스를 제공하여, 보다 직관적으로 시스템과 상호작용할 수 있습니다.\n",
      "\n",
      "6. **통합 및 확장성**: 다른 소프트웨어 및 플랫폼과의 통합이 용이하여, 기업들이 기존 시스템에 쉽게 LangServe의 기능을 추가할 수 있습니다.\n",
      "\n",
      "이러한 기능들은 사용자와 기업이 다양한 방식으로 언어 모델을 활용할 수 있도록 지원하며, 특히 고객 서비스, 콘텐츠 생성, 데이터 분석 등 다양한 분야에서 응용될 수 있습니다. LangServe는 사용자가 자연어 처리 기술의 이점을 극대화하고, 효율성을 향상시킬 수 있도록 돕는 중요한 도구입니다.\n"
     ]
    }
   ],
   "source": [
    "try:\n",
    "    response = llm.invoke(prompt_text)\n",
    "    print(type(response))\n",
    "    print(response)\n",
    "    print(\"응답:\", response.content)\n",
    "except Exception as e:\n",
    "    print(f\"오류 발생: {e}\")"
   ]
  }
 ],
 "metadata": {
  "kernelspec": {
   "display_name": "langchain-basic-kGdHTiMZ-py3.12",
   "language": "python",
   "name": "python3"
  },
  "language_info": {
   "codemirror_mode": {
    "name": "ipython",
    "version": 3
   },
   "file_extension": ".py",
   "mimetype": "text/x-python",
   "name": "python",
   "nbconvert_exporter": "python",
   "pygments_lexer": "ipython3",
   "version": "3.12.7"
  }
 },
 "nbformat": 4,
 "nbformat_minor": 5
}
