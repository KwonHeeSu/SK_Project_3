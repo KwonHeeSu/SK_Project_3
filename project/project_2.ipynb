{
 "cells": [
  {
   "cell_type": "code",
   "execution_count": 15,
   "id": "2953af0d",
   "metadata": {},
   "outputs": [],
   "source": [
    "import os\n",
    "from dotenv import load_dotenv\n",
    "from langchain_core.prompts import ChatPromptTemplate\n",
    "from langchain_openai import ChatOpenAI \n",
    "\n",
    "\n",
    "load_dotenv()\n",
    "OPENAI_API_KEY = os.getenv(\"OPENAI_API_KEY\")"
   ]
  },
  {
   "cell_type": "code",
   "execution_count": null,
   "id": "42cc29a1",
   "metadata": {},
   "outputs": [],
   "source": [
    "# Groq API를 사용하는 ChatOpenAI 인스턴스 생성\n",
    "llm = ChatOpenAI(\n",
    "    #api_key=OPENAI_API_KEY,\n",
    "    base_url=\"https://api.groq.com/openai/v1\",  # Groq API 엔드포인트\n",
    "    model=\"meta-llama/llama-4-scout-17b-16e-instruct\",\n",
    "    #model=\"mistral-saba-24b\",\n",
    "    temperature=0\n",
    ")"
   ]
  },
  {
   "cell_type": "markdown",
   "id": "7fda4994",
   "metadata": {},
   "source": [
    "### Project 2-1. 콤마 구분 리스트 파서 활용"
   ]
  },
  {
   "cell_type": "code",
   "execution_count": 17,
   "id": "bee090ea",
   "metadata": {},
   "outputs": [
    {
     "name": "stdout",
     "output_type": "stream",
     "text": [
      "['서울의 N서울타워', '이태원의 먹자골목', '광화문의 한정식 거리', '부산의 자갈치 시장', '대전의 성심당']\n"
     ]
    }
   ],
   "source": [
    "parser = CommaSeparatedListOutputParser()\n",
    "prompt = ChatPromptTemplate.from_template(\n",
    "    \"\"\"관심 분야와 관련된 한국의 유명한 장소나 활동 5가지를 콤마로 구분해 한 줄로 추천해 주세요.\n",
    "관심 분야: {interest}\n",
    "#Format: {format_instructions}\n",
    "\"\"\"\n",
    ")\n",
    "prompt = prompt.partial(format_instructions=parser.get_format_instructions())\n",
    "\n",
    "# 체인 생성\n",
    "chain = prompt | llm | parser\n",
    "\n",
    "# 테스트 입력\n",
    "user_input = \"음식\"\n",
    "result = chain.invoke({\"interest\": user_input})\n",
    "print(result)"
   ]
  },
  {
   "cell_type": "markdown",
   "id": "5fba3894",
   "metadata": {},
   "source": [
    "### Project 2-2. 영화 리뷰 감정 분석기"
   ]
  },
  {
   "cell_type": "code",
   "execution_count": 23,
   "id": "b45304b3",
   "metadata": {},
   "outputs": [
    {
     "name": "stdout",
     "output_type": "stream",
     "text": [
      "1. 텍스트: 이 제품 정말 좋아요! 완전 만족스러워요.\n",
      "→ 감정: 긍정\n",
      "\n",
      "2. 텍스트: 서비스가 너무 느리고 불친절했습니다.\n",
      "→ 감정: 부정\n",
      "\n",
      "3. 텍스트: 오늘은 비가 온다네요.\n",
      "→ 감정: 중립\n",
      "\n",
      "4. 텍스트: 배송은 빠르지만 품질이 아쉽습니다.\n",
      "→ 감정: 부정\n",
      "\n",
      "5. 텍스트: 최고의 경험이었습니다!\n",
      "→ 감정: 긍정\n",
      "\n",
      "6. 텍스트: 완전 실망했어요... 최악이에요\n",
      "→ 감정: 부정\n",
      "\n"
     ]
    }
   ],
   "source": [
    "from enum import Enum\n",
    "from langchain.output_parsers import EnumOutputParser, OutputFixingParser\n",
    "from langchain_core.prompts import ChatPromptTemplate\n",
    "from langchain.schema import OutputParserException\n",
    "\n",
    "# 1. 감정 Enum 정의\n",
    "class Sentiment(str, Enum):\n",
    "    긍정 = \"긍정\"\n",
    "    부정 = \"부정\"\n",
    "    중립 = \"중립\"\n",
    "\n",
    "# 2. 출력 파서 준비\n",
    "parser = EnumOutputParser(enum=Sentiment)\n",
    "format_instructions = parser.get_format_instructions()\n",
    "\n",
    "# 3. 프롬프트 템플릿 준비\n",
    "prompt = ChatPromptTemplate.from_template(\n",
    "    \"\"\"\n",
    "    당신은 텍스트 감정 분석 전문가입니다.\n",
    "    다음 텍스트의 감정을 분석하고, 반드시 아래 세 가지 중 하나의 단어로만 답변하세요.\n",
    "\n",
    "    텍스트: \"{text}\"\n",
    "\n",
    "    {format_instructions}\n",
    "\n",
    "    규칙:\n",
    "    1. 반드시 \"긍정\", \"부정\", \"중립\" 중 하나의 단어만 출력\n",
    "    2. 다른 설명, 부가 설명, 이모지, 특수문자 추가 금지\n",
    "    3. 오직 한 단어만 출력\n",
    "    \"\"\"\n",
    ")\n",
    "prompt = prompt.partial(format_instructions=format_instructions)\n",
    "\n",
    "# 4. OutputFixingParser로 robust하게 파싱\n",
    "fixing_parser = OutputFixingParser.from_llm(parser=parser, llm=llm)\n",
    "\n",
    "# 5. 감정 분석 체인 생성\n",
    "chain = prompt | llm | fixing_parser\n",
    "\n",
    "# 6. 테스트용 텍스트 리스트\n",
    "texts = [\n",
    "    \"이 제품 정말 좋아요! 완전 만족스러워요.\",\n",
    "    \"서비스가 너무 느리고 불친절했습니다.\",\n",
    "    \"오늘은 비가 온다네요.\",\n",
    "    \"배송은 빠르지만 품질이 아쉽습니다.\",\n",
    "    \"최고의 경험이었습니다!\",\n",
    "    \"완전 실망했어요... 최악이에요\"\n",
    "]\n",
    "\n",
    "# 7. 감정 분석 실행\n",
    "for i, text in enumerate(texts, 1):\n",
    "    try:\n",
    "        result = chain.invoke({\"text\": text})\n",
    "        print(f\"{i}. 텍스트: {text}\\n→ 감정: {result.value}\\n\")\n",
    "    except OutputParserException as e:\n",
    "        print(f\"{i}. 텍스트: {text}\\n→ 파싱 오류: {str(e)[:100]}...\\n\")\n",
    "    except Exception as e:\n",
    "        print(f\"{i}. 텍스트: {text}\\n→ 기타 오류: {str(e)[:100]}...\\n\")\n"
   ]
  },
  {
   "cell_type": "markdown",
   "id": "21688476",
   "metadata": {},
   "source": [
    "### Project 2-3. 학생 정보 구조화 시스템"
   ]
  },
  {
   "cell_type": "code",
   "execution_count": 33,
   "id": "fb6340f1",
   "metadata": {},
   "outputs": [
    {
     "name": "stdout",
     "output_type": "stream",
     "text": [
      "name='김민수' age=22 major='컴퓨터공학' hobbies=['게임하기', '영화보기', '코딩'] goal='훌륭한 개발자'\n",
      "{\n",
      "  \"name\": \"김민수\",\n",
      "  \"age\": 22,\n",
      "  \"major\": \"컴퓨터공학\",\n",
      "  \"hobbies\": [\n",
      "    \"게임하기\",\n",
      "    \"영화보기\",\n",
      "    \"코딩\"\n",
      "  ],\n",
      "  \"goal\": \"훌륭한 개발자\"\n",
      "}\n"
     ]
    }
   ],
   "source": [
    "from pydantic import BaseModel, Field\n",
    "from typing import List\n",
    "from langchain.output_parsers import PydanticOutputParser\n",
    "from langchain_core.prompts import ChatPromptTemplate\n",
    "\n",
    "# 1. Pydantic 모델 정의\n",
    "class StudentInfo(BaseModel):\n",
    "    name: str = Field(..., description=\"학생의 이름\")\n",
    "    age: int = Field(..., description=\"학생의 나이(숫자)\")\n",
    "    major: str = Field(..., description=\"전공\")\n",
    "    hobbies: List[str] = Field(..., description=\"취미 리스트 (문자열의 리스트)\")\n",
    "    goal: str = Field(..., description=\"학생의 목표\")\n",
    "\n",
    "# 2. 파서 준비\n",
    "parser = PydanticOutputParser(pydantic_object=StudentInfo)\n",
    "format_instructions = parser.get_format_instructions()\n",
    "\n",
    "# 3. 프롬프트 템플릿 준비\n",
    "prompt = ChatPromptTemplate.from_template(\n",
    "    \"\"\"\n",
    "아래 자기소개 텍스트에서 학생의 이름(name), 나이(age), 전공(major), 취미(hobbies: 리스트), 목표(goal)를 각각 추출해 StudentInfo JSON 구조로 반환하세요.\n",
    "설명, 코드, 마크다운, 해설, 문장 모두 금지! 반드시 JSON만 출력!\n",
    "\n",
    "예시:\n",
    "{{\n",
    "  \"name\": \"홍길동\",\n",
    "  \"age\": 21,\n",
    "  \"major\": \"수학\",\n",
    "  \"hobbies\": [\"등산\", \"수영\"],\n",
    "  \"goal\": \"수학자\"\n",
    "}}\n",
    "\n",
    "자기소개: {text}\n",
    "\n",
    "{format_instructions}\n",
    "\"\"\"\n",
    ")\n",
    "prompt = prompt.partial(format_instructions=format_instructions)\n",
    "\n",
    "# 4. 체인 연결\n",
    "chain = prompt | llm | parser\n",
    "\n",
    "# 5. 테스트 입력\n",
    "input_text = (\n",
    "    \"안녕하세요! 저는 김민수이고 22살입니다. 컴퓨터공학을 전공하고 있어요. \"\n",
    "    \"취미로는 게임하기, 영화보기, 코딩을 좋아합니다. 앞으로 훌륭한 개발자가 되는 것이 목표입니다.\"\n",
    ")\n",
    "\n",
    "# 6. 실행 및 출력 (pydantic v2 기준)\n",
    "result = chain.invoke({\"text\": input_text})\n",
    "\n",
    "print(result)  # Pydantic 객체\n",
    "print(result.model_dump_json(indent=2))\n"
   ]
  },
  {
   "cell_type": "markdown",
   "id": "ab93456a",
   "metadata": {},
   "source": [
    "### Project 2-4. 여행 계획 분석기"
   ]
  },
  {
   "cell_type": "code",
   "execution_count": 35,
   "id": "06a66938",
   "metadata": {},
   "outputs": [
    {
     "name": "stdout",
     "output_type": "stream",
     "text": [
      "{'activities': '해운대 바다구경, 자갈치시장 구경, 감천문화마을 구경',\n",
      " 'budget': '30만원',\n",
      " 'destination': '부산',\n",
      " 'duration': '2박3일',\n",
      " 'rating': '4'}\n"
     ]
    }
   ],
   "source": [
    "from langchain.output_parsers import StructuredOutputParser, ResponseSchema\n",
    "from langchain_core.prompts import ChatPromptTemplate\n",
    "\n",
    "# 1. 5개 필드 정의 (ResponseSchema)\n",
    "schemas = [\n",
    "    ResponseSchema(name=\"destination\", description=\"여행한(할) 도시나 지역명\"),\n",
    "    ResponseSchema(name=\"duration\", description=\"여행 기간 (예: '2박 3일', '3일간')\"),\n",
    "    ResponseSchema(name=\"budget\", description=\"여행 전체 예산 (예: '30만원', '100달러')\"),\n",
    "    ResponseSchema(name=\"rating\", description=\"추천도 (1~5점 중 숫자만)\"),\n",
    "    ResponseSchema(name=\"activities\", description=\"여행의 주요 활동 리스트 (최소 2개, 예: '해운대 바다구경', '시장 구경')\")\n",
    "]\n",
    "\n",
    "parser = StructuredOutputParser.from_response_schemas(schemas)\n",
    "format_instructions = parser.get_format_instructions()\n",
    "\n",
    "# 2. 프롬프트 템플릿\n",
    "prompt = ChatPromptTemplate.from_template(\n",
    "    \"\"\"\n",
    "아래 여행 후기(또는 계획)에서 핵심 정보를 추출해 구조화된 JSON만 반환하세요.\n",
    "\n",
    "{format_instructions}\n",
    "\n",
    "여행 텍스트:\n",
    "{text}\n",
    "\"\"\"\n",
    ")\n",
    "prompt = prompt.partial(format_instructions=format_instructions)\n",
    "\n",
    "# 3. 체인 연결\n",
    "chain = prompt | llm | parser\n",
    "\n",
    "# 4. 테스트 입력\n",
    "input_text = (\n",
    "    \"지난 주에 부산으로 2박 3일 여행을 다녀왔어요. 총 30만원 정도 썼는데 해운대에서 바다구경하고, \"\n",
    "    \"자갈치시장에서 회 먹고, 감천문화마을도 구경했어요. 정말 만족스러운 여행이었습니다. 5점 만점에 4점 정도 줄 수 있을 것 같아요.\"\n",
    ")\n",
    "\n",
    "# 5. 실행 및 출력\n",
    "result = chain.invoke({\"text\": input_text})\n",
    "\n",
    "from pprint import pprint\n",
    "pprint(result)\n"
   ]
  }
 ],
 "metadata": {
  "kernelspec": {
   "display_name": "langchain-basic-kGdHTiMZ-py3.12",
   "language": "python",
   "name": "python3"
  },
  "language_info": {
   "codemirror_mode": {
    "name": "ipython",
    "version": 3
   },
   "file_extension": ".py",
   "mimetype": "text/x-python",
   "name": "python",
   "nbconvert_exporter": "python",
   "pygments_lexer": "ipython3",
   "version": "3.12.7"
  }
 },
 "nbformat": 4,
 "nbformat_minor": 5
}
