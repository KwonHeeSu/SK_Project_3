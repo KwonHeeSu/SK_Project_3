{
 "cells": [
  {
   "cell_type": "code",
   "execution_count": 2,
   "id": "f46a215c",
   "metadata": {},
   "outputs": [
    {
     "name": "stdout",
     "output_type": "stream",
     "text": [
      "up\n"
     ]
    }
   ],
   "source": [
    "import os\n",
    "from dotenv import load_dotenv\n",
    "\n",
    "load_dotenv()\n",
    "UPSTAGE_API_KEY = os.getenv(\"UPSTAGE_API_KEY\")\n",
    "print(UPSTAGE_API_KEY[:2])"
   ]
  },
  {
   "cell_type": "code",
   "execution_count": 3,
   "id": "bd390174",
   "metadata": {},
   "outputs": [
    {
     "name": "stdout",
     "output_type": "stream",
     "text": [
      "<class 'langchain_core.messages.ai.AIMessage'>\n",
      "LangChain은 자연어 처리(NLP) 및 자연어 이해(NLU) 작업을 위한 도구 및 기술을 제공하는 Python 라이브러리입니다. 텍스트 데이터에 대한 다양한 작업을 수행할 수 있는 기능 세트를 제공하여 NLP 파이프라인을 구축하고 NLU 모델을 만드는 데 도움이 됩니다.\n",
      "\n",
      "LangChain의 주요 기능 중 일부는 다음과 같습니다.\n",
      "\n",
      "1. 텍스트 전처리: 토큰화, 어간 추출, 표제어 추출, 불용어 제거 등과 같은 기능을 제공합니다.\n",
      "2. 감정 분석: 텍스트에서 감정과 감정을 감지하고 분류합니다.\n",
      "3. 개체명 인식(NER): 텍스트에서 사람, 장소, 조직 등과 같은 중요한 개체를 식별하고 추출합니다.\n",
      "4. 주제 모델링: 텍스트 데이터에서 주제와 패턴을 식별합니다.\n",
      "5. 대화형 애플리케이션: 챗봇 및 가상 어시스턴트와 같은 대화형 애플리케이션을 구축하기 위한 도구를 제공합니다.\n",
      "\n",
      "LangChain은 유연하고 확장 가능하도록 설계되어 사용자가 NLP 및 NLU 작업을 위한 사용자 정의 파이프라인 및 모델을 만들 수 있습니다. 연구원, 개발자 및 NLP 기술을 사용하여 자연어 데이터를 분석하고 이해하려는 조직에서 사용합니다.\n"
     ]
    }
   ],
   "source": [
    "from langchain_upstage import ChatUpstage\n",
    "\n",
    "llm = ChatUpstage(\n",
    "        model=\"solar-pro\",\n",
    "        base_url=\"https://api.upstage.ai/v1\",\n",
    "        temperature=0.5\n",
    "    )\n",
    "    \n",
    "ai_message=llm.invoke(\"LangChain은 무엇인가요?\")\n",
    "print(type(ai_message))\n",
    "print(ai_message.content)"
   ]
  },
  {
   "cell_type": "code",
   "execution_count": 4,
   "id": "95e776b9",
   "metadata": {},
   "outputs": [
    {
     "name": "stdout",
     "output_type": "stream",
     "text": [
      "Upstage Response:\n",
      "LangChain은 AI 애플리케이션을 구축하기 위한 강력한 프레임워크입니다.\n"
     ]
    }
   ],
   "source": [
    "from langchain_upstage import ChatUpstage\n",
    "from langchain_core.prompts import ChatPromptTemplate\n",
    "\n",
    "translation_prompt = ChatPromptTemplate.from_messages([\n",
    "        (\"system\", \"You are a professional translator specializing in Korean-English translation.\"),\n",
    "        (\"human\", \"Translate this from {source_lang} to {target_lang}: {text}\")\n",
    "    ])\n",
    "\n",
    "llm = ChatUpstage(\n",
    "        model=\"solar-pro\",\n",
    "        base_url=\"https://api.upstage.ai/v1\",\n",
    "        temperature=0.5\n",
    "    )\n",
    "\n",
    "# 체인 실행\n",
    "chain = translation_prompt | llm\n",
    "\n",
    "response = chain.invoke({\n",
    "    \"source_lang\": \"English\",\n",
    "    \"target_lang\": \"Korean\", \n",
    "    \"text\": \"LangChain is a powerful framework for building AI applications.\"\n",
    "})\n",
    "\n",
    "print(\"Upstage Response:\")\n",
    "print(response.content)\n"
   ]
  }
 ],
 "metadata": {
  "kernelspec": {
   "display_name": "langchain-basic-kGdHTiMZ-py3.12",
   "language": "python",
   "name": "python3"
  },
  "language_info": {
   "codemirror_mode": {
    "name": "ipython",
    "version": 3
   },
   "file_extension": ".py",
   "mimetype": "text/x-python",
   "name": "python",
   "nbconvert_exporter": "python",
   "pygments_lexer": "ipython3",
   "version": "3.12.7"
  }
 },
 "nbformat": 4,
 "nbformat_minor": 5
}
